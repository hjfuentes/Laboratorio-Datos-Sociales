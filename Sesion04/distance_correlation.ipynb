{
  "nbformat": 4,
  "nbformat_minor": 0,
  "metadata": {
    "colab": {
      "provenance": [],
      "include_colab_link": true
    },
    "kernelspec": {
      "name": "python3",
      "display_name": "Python 3"
    },
    "language_info": {
      "name": "python"
    }
  },
  "cells": [
    {
      "cell_type": "markdown",
      "metadata": {
        "id": "view-in-github",
        "colab_type": "text"
      },
      "source": [
        "<a href=\"https://colab.research.google.com/github/hjfuentes/Laboratorio-Datos-Sociales/blob/main/Sesion04/distance_correlation.ipynb\" target=\"_parent\"><img src=\"https://colab.research.google.com/assets/colab-badge.svg\" alt=\"Open In Colab\"/></a>"
      ]
    },
    {
      "cell_type": "code",
      "source": [
        "pip install -q dcor"
      ],
      "metadata": {
        "colab": {
          "base_uri": "https://localhost:8080/"
        },
        "id": "TEumUTnfW_Az",
        "outputId": "c23f66fb-3936-419c-eebc-55b77a618ef1"
      },
      "execution_count": null,
      "outputs": [
        {
          "output_type": "stream",
          "name": "stdout",
          "text": [
            "\u001b[?25l   \u001b[90m━━━━━━━━━━━━━━━━━━━━━━━━━━━━━━━━━━━━━━━━\u001b[0m \u001b[32m0.0/55.5 kB\u001b[0m \u001b[31m?\u001b[0m eta \u001b[36m-:--:--\u001b[0m\r\u001b[2K   \u001b[90m━━━━━━━━━━━━━━━━━━━━━━━━━━━━━━━━━━━━━━━━\u001b[0m \u001b[32m55.5/55.5 kB\u001b[0m \u001b[31m2.6 MB/s\u001b[0m eta \u001b[36m0:00:00\u001b[0m\n",
            "\u001b[?25h"
          ]
        }
      ]
    },
    {
      "cell_type": "code",
      "source": [
        "from dcor import distance_correlation"
      ],
      "metadata": {
        "id": "odD9x_HyX_aK"
      },
      "execution_count": null,
      "outputs": []
    },
    {
      "cell_type": "code",
      "execution_count": null,
      "metadata": {
        "id": "qeWDP7JNWfJV"
      },
      "outputs": [],
      "source": [
        "import numpy as np\n",
        "import matplotlib.pyplot as plt\n",
        "from scipy.spatial import distance\n",
        "\n",
        "# Datos\n",
        "X = np.array([1, 2, 3, 4, 5])\n",
        "Y = np.array([60, 75, 90, 75, 60])"
      ]
    },
    {
      "cell_type": "markdown",
      "source": [
        "Sea el conjunto de datos definido por los vectores:\n",
        "\n",
        "$$\n",
        "X = [1,\\, 2,\\, 3,\\, 4,\\, 5]\n",
        "$$\n",
        "\n",
        "$$\n",
        "Y = [60,\\, 75,\\, 90,\\, 75,\\, 60]\n",
        "$$\n"
      ],
      "metadata": {
        "id": "sFxxVTTmak_i"
      }
    },
    {
      "cell_type": "code",
      "source": [
        "from scipy.stats import pearsonr\n",
        "\n",
        "pearson, _ = pearsonr(X, Y)\n",
        "print(f\"Coeficiente de Pearson: {pearson:.3f}\")"
      ],
      "metadata": {
        "colab": {
          "base_uri": "https://localhost:8080/"
        },
        "id": "dYzeeuEgX2BS",
        "outputId": "09b562dc-9d74-4bd0-e55d-3c58bb4afb7f"
      },
      "execution_count": null,
      "outputs": [
        {
          "output_type": "stream",
          "name": "stdout",
          "text": [
            "Coeficiente de Pearson: 0.000\n"
          ]
        }
      ]
    },
    {
      "cell_type": "code",
      "source": [
        "plt.scatter(X,Y)"
      ],
      "metadata": {
        "colab": {
          "base_uri": "https://localhost:8080/",
          "height": 448
        },
        "id": "dK0OKTe2X48q",
        "outputId": "af794460-6ff4-4b2b-ef4d-c815b3e68f02"
      },
      "execution_count": null,
      "outputs": [
        {
          "output_type": "execute_result",
          "data": {
            "text/plain": [
              "<matplotlib.collections.PathCollection at 0x7d53b15c2300>"
            ]
          },
          "metadata": {},
          "execution_count": 28
        },
        {
          "output_type": "display_data",
          "data": {
            "text/plain": [
              "<Figure size 640x480 with 1 Axes>"
            ],
            "image/png": "[encoded data removed]"
          },
          "metadata": {}
        }
      ]
    },
    {
      "cell_type": "code",
      "source": [
        "# Calcular matrices de distancias\n",
        "DX = np.abs(X[:, None] - X[None, :])\n",
        "DY = np.abs(Y[:, None] - Y[None, :])"
      ],
      "metadata": {
        "id": "D3aYt4ikZqlL"
      },
      "execution_count": null,
      "outputs": []
    },
    {
      "cell_type": "markdown",
      "source": [
        "Para cada par de observaciones, calculo la distancia absoluta entre los valores de $ X $ y $ Y $:\n",
        "\n",
        "$$\n",
        "D_X(i,j) = |X_i - X_j|\n",
        "$$\n",
        "$$\n",
        "D_Y(i,j) = |Y_i - Y_j|\n",
        "$$\n",
        "\n",
        "De esta forma obtengo las matrices de distancias $ D_X $ y $ D_Y $ que representan todas las diferencias absolutas entre los elementos de cada variable."
      ],
      "metadata": {
        "id": "9s_RScc4ap4i"
      }
    },
    {
      "cell_type": "code",
      "source": [
        "DX"
      ],
      "metadata": {
        "colab": {
          "base_uri": "https://localhost:8080/"
        },
        "id": "kgYMRdBDbEBp",
        "outputId": "cda1e7da-6fb6-4619-bd5a-cb3f0b7983f9"
      },
      "execution_count": null,
      "outputs": [
        {
          "output_type": "execute_result",
          "data": {
            "text/plain": [
              "array([[0, 1, 2, 3, 4],\n",
              "       [1, 0, 1, 2, 3],\n",
              "       [2, 1, 0, 1, 2],\n",
              "       [3, 2, 1, 0, 1],\n",
              "       [4, 3, 2, 1, 0]])"
            ]
          },
          "metadata": {},
          "execution_count": 29
        }
      ]
    },
    {
      "cell_type": "code",
      "source": [
        "DY"
      ],
      "metadata": {
        "colab": {
          "base_uri": "https://localhost:8080/"
        },
        "id": "P1FfUb6DbF1j",
        "outputId": "9236e080-99af-4deb-8e18-2389c6b1ab81"
      },
      "execution_count": null,
      "outputs": [
        {
          "output_type": "execute_result",
          "data": {
            "text/plain": [
              "array([[ 0, 15, 30, 15,  0],\n",
              "       [15,  0, 15,  0, 15],\n",
              "       [30, 15,  0, 15, 30],\n",
              "       [15,  0, 15,  0, 15],\n",
              "       [ 0, 15, 30, 15,  0]])"
            ]
          },
          "metadata": {},
          "execution_count": 30
        }
      ]
    },
    {
      "cell_type": "code",
      "source": [
        "# Centrar las matrices (restar medias de filas y columnas)\n",
        "DX_mean_row = DX.mean(axis=1, keepdims=True)\n",
        "DX_mean_col = DX.mean(axis=0, keepdims=True)\n",
        "DX_mean_total = DX.mean()\n",
        "A = DX - DX_mean_row - DX_mean_col + DX_mean_total"
      ],
      "metadata": {
        "id": "imsI5bZ6Zr7q"
      },
      "execution_count": null,
      "outputs": []
    },
    {
      "cell_type": "code",
      "source": [
        "A"
      ],
      "metadata": {
        "colab": {
          "base_uri": "https://localhost:8080/"
        },
        "id": "CcCr2ehScCwP",
        "outputId": "a7a2a1fa-9630-4c4a-a64e-1f7fd867cb4b"
      },
      "execution_count": null,
      "outputs": [
        {
          "output_type": "execute_result",
          "data": {
            "text/plain": [
              "array([[-2.40000000e+00, -8.00000000e-01,  4.00000000e-01,\n",
              "         1.20000000e+00,  1.60000000e+00],\n",
              "       [-8.00000000e-01, -1.20000000e+00,  2.22044605e-16,\n",
              "         8.00000000e-01,  1.20000000e+00],\n",
              "       [ 4.00000000e-01,  2.22044605e-16, -8.00000000e-01,\n",
              "         2.22044605e-16,  4.00000000e-01],\n",
              "       [ 1.20000000e+00,  8.00000000e-01,  2.22044605e-16,\n",
              "        -1.20000000e+00, -8.00000000e-01],\n",
              "       [ 1.60000000e+00,  1.20000000e+00,  4.00000000e-01,\n",
              "        -8.00000000e-01, -2.40000000e+00]])"
            ]
          },
          "metadata": {},
          "execution_count": 33
        }
      ]
    },
    {
      "cell_type": "markdown",
      "source": [
        "A continuación, centro la matriz de distancias $ D_X $ restando las medias de filas y columnas, y sumando la media total.  \n",
        "El resultado se denomina **matriz de distancias centrada** $ A $:\n",
        "\n",
        "$$\n",
        "A_{ij} = D_X(i,j) - \\bar{D}_{X,i\\cdot} - \\bar{D}_{X,\\cdot j} + \\bar{D}_{X,\\cdot\\cdot}\n",
        "$$\n",
        "\n",
        "donde:\n",
        "- $\\bar{D}_{X,i\\cdot}$ es la media de la fila $i$,\n",
        "- $\\bar{D}_{X,\\cdot j}$ es la media de la columna $j$,\n",
        "- $\\bar{D}_{X,\\cdot\\cdot}$ es la media total de la matriz $D_X$."
      ],
      "metadata": {
        "id": "AJD1WO0EavNp"
      }
    },
    {
      "cell_type": "code",
      "source": [
        "DY_mean_row = DY.mean(axis=1, keepdims=True)\n",
        "DY_mean_col = DY.mean(axis=0, keepdims=True)\n",
        "DY_mean_total = DY.mean()\n",
        "B = DY - DY_mean_row - DY_mean_col + DY_mean_total"
      ],
      "metadata": {
        "id": "8yI7n-2eZ80K"
      },
      "execution_count": null,
      "outputs": []
    },
    {
      "cell_type": "markdown",
      "source": [
        "De forma análoga, centro la matriz de distancias $ D_Y $ para obtener la matriz $ B $:\n",
        "\n",
        "$$\n",
        "B_{ij} = D_Y(i,j) - \\bar{D}_{Y,i\\cdot} - \\bar{D}_{Y,\\cdot j} + \\bar{D}_{Y,\\cdot\\cdot}\n",
        "$$\n",
        "\n",
        "donde:\n",
        "- $\\bar{D}_{Y,i\\cdot}$ es la media de la fila $i$,\n",
        "- $\\bar{D}_{Y,\\cdot j}$ es la media de la columna $j$,\n",
        "- $\\bar{D}_{Y,\\cdot\\cdot}$ es la media total de la matriz $D_Y$."
      ],
      "metadata": {
        "id": "8u35gLZkayUi"
      }
    },
    {
      "cell_type": "code",
      "source": [
        "# Calcular distancia-covarianza y varianzas\n",
        "dcov_xy = np.sqrt((A * B).mean())\n",
        "dcov_xx = np.sqrt((A * A).mean())\n",
        "dcov_yy = np.sqrt((B * B).mean())"
      ],
      "metadata": {
        "id": "2E-W76c5ZuYm"
      },
      "execution_count": null,
      "outputs": []
    },
    {
      "cell_type": "markdown",
      "source": [
        "A continuación, calculo la **distancia-covarianza** entre $ X $ y $ Y $, así como las **distancias-varianza** de cada variable:\n",
        "\n",
        "$$\n",
        "\\text{dCov}(X,Y) = \\sqrt{\\frac{1}{n^2} \\sum_{i,j} A_{ij} B_{ij}}\n",
        "$$\n",
        "\n",
        "$$\n",
        "\\text{dVar}(X) = \\sqrt{\\frac{1}{n^2} \\sum_{i,j} A_{ij}^2}\n",
        "$$\n",
        "\n",
        "$$\n",
        "\\text{dVar}(Y) = \\sqrt{\\frac{1}{n^2} \\sum_{i,j} B_{ij}^2}\n",
        "$$\n",
        "\n",
        "Estas medidas permiten capturar la dependencia entre variables incluso si la relación no es lineal.\n"
      ],
      "metadata": {
        "id": "0l1lTSeOa1_y"
      }
    },
    {
      "cell_type": "code",
      "source": [
        "# Calcular coeficiente de correlación de distancia\n",
        "dcor = dcov_xy / np.sqrt(dcov_xx * dcov_yy)\n",
        "print(f\"Coeficiente de correlación de distancia: {dcor:.3f}\")"
      ],
      "metadata": {
        "colab": {
          "base_uri": "https://localhost:8080/"
        },
        "id": "OCx1RlneZ0x6",
        "outputId": "60bd8305-e151-469f-b3e3-4e1deb5e6870"
      },
      "execution_count": null,
      "outputs": [
        {
          "output_type": "stream",
          "name": "stdout",
          "text": [
            "Coeficiente de correlación de distancia: 0.530\n"
          ]
        }
      ]
    },
    {
      "cell_type": "markdown",
      "source": [
        "Finalmente, calculo el **coeficiente de correlación de distancia** ($dCor$) normalizando la distancia-covarianza por las distancias-varianza de cada variable:\n",
        "\n",
        "$$\n",
        "dCor(X,Y) = \\frac{\\text{dCov}(X,Y)}{\\sqrt{\\text{dVar}(X) \\cdot \\text{dVar}(Y)}}\n",
        "$$\n",
        "\n",
        "Este valor toma valores entre 0 y 1, donde 0 indica independencia total y 1 indica dependencia perfecta (lineal o no lineal)."
      ],
      "metadata": {
        "id": "jCTK8ywza6Nu"
      }
    },
    {
      "cell_type": "code",
      "source": [
        "# Calcular la correlación de distancia\n",
        "dcor = distance_correlation(X, Y)\n",
        "\n",
        "print(f\"Coeficiente de correlación de distancia: {dcor:.3f}\")"
      ],
      "metadata": {
        "colab": {
          "base_uri": "https://localhost:8080/"
        },
        "id": "Muo_VEF3Zlcy",
        "outputId": "d4b3d492-25a7-46d1-b361-0dcbcfcff690"
      },
      "execution_count": null,
      "outputs": [
        {
          "output_type": "stream",
          "name": "stdout",
          "text": [
            "Coeficiente de correlación de distancia: 0.530\n"
          ]
        },
        {
          "output_type": "stream",
          "name": "stderr",
          "text": [
            "/usr/local/lib/python3.12/dist-packages/dcor/_fast_dcov_avl.py:554: UserWarning: Falling back to uncompiled AVL fast distance covariance terms because of TypeError exception raised: No matching definition for argument type(s) array(int64, 1d, C), array(int64, 1d, C), bool. Rembember: only floating point values can be used in the compiled implementations.\n",
            "  warnings.warn(\n"
          ]
        }
      ]
    }
  ]
}